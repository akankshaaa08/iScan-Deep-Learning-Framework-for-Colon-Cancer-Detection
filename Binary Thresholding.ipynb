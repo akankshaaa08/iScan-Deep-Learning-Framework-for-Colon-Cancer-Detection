{
  "nbformat": 4,
  "nbformat_minor": 0,
  "metadata": {
    "colab": {
      "name": "Threshold_code.ipynb",
      "provenance": [],
      "collapsed_sections": []
    },
    "kernelspec": {
      "name": "python3",
      "display_name": "Python 3"
    },
    "accelerator": "GPU"
  },
  "cells": [
    {
      "cell_type": "code",
      "metadata": {
        "id": "VirVLCMkohAv"
      },
      "source": [
        "import cv2  \n",
        "import numpy as np  \n",
        "import glob \n",
        "from google.colab.patches import cv2_imshow"
      ],
      "execution_count": null,
      "outputs": []
    },
    {
      "cell_type": "code",
      "metadata": {
        "colab": {
          "base_uri": "https://localhost:8080/",
          "height": 431
        },
        "id": "MXn2EYYkotvc",
        "outputId": "af93a6e4-569b-4b5e-9270-b86c4b085ddc"
      },
      "source": [
        "import cv2\n",
        "img_grey =cv2.imread('/content/snapshot0003.png',cv2.IMREAD_GRAYSCALE)\n",
        "img_binary = cv2.threshold(img_grey, 254 ,255,cv2.THRESH_BINARY)[1]\n",
        "cv2_imshow(img_binary) "
      ],
      "execution_count": null,
      "outputs": [
        {
          "output_type": "display_data",
          "data": {
            "image/png": "[encoded data removed]",
            "text/plain": [
              "<PIL.Image.Image image mode=L size=718x414 at 0x7F8B9C198D10>"
            ]
          },
          "metadata": {
            "tags": []
          }
        }
      ]
    }
  ]
}